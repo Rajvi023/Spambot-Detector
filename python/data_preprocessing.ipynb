{
 "cells": [
  {
   "cell_type": "code",
   "execution_count": 2,
   "metadata": {},
   "outputs": [],
   "source": [
    "import numpy as np\n",
    "import pandas as pd"
   ]
  },
  {
   "cell_type": "code",
   "execution_count": 3,
   "metadata": {},
   "outputs": [],
   "source": [
    "tweets = pd.read_csv(\"./tweets.csv\")\n",
    "users = pd.read_csv(\"./users.csv\")"
   ]
  },
  {
   "cell_type": "code",
   "execution_count": 4,
   "metadata": {},
   "outputs": [
    {
     "name": "stderr",
     "output_type": "stream",
     "text": [
      "c:\\users\\yash\\dv\\lib\\site-packages\\ipykernel_launcher.py:2: SettingWithCopyWarning: \n",
      "A value is trying to be set on a copy of a slice from a DataFrame.\n",
      "Try using .loc[row_indexer,col_indexer] = value instead\n",
      "\n",
      "See the caveats in the documentation: http://pandas.pydata.org/pandas-docs/stable/user_guide/indexing.html#returning-a-view-versus-a-copy\n",
      "  \n",
      "c:\\users\\yash\\dv\\lib\\site-packages\\ipykernel_launcher.py:3: SettingWithCopyWarning: \n",
      "A value is trying to be set on a copy of a slice from a DataFrame.\n",
      "Try using .loc[row_indexer,col_indexer] = value instead\n",
      "\n",
      "See the caveats in the documentation: http://pandas.pydata.org/pandas-docs/stable/user_guide/indexing.html#returning-a-view-versus-a-copy\n",
      "  This is separate from the ipykernel package so we can avoid doing imports until\n"
     ]
    }
   ],
   "source": [
    "tweets_truncated = tweets[['user_id','id','text', 'retweet_count', 'reply_count','favorite_count', 'retweeted_status_id','num_hashtags', 'num_urls', 'num_mentions']]\n",
    "tweets_truncated['tweet_length'] = tweets_truncated.apply(lambda row: 0 if type(row.text)!=str and np.isnan(row.text) else len(row.text), axis = 1)\n",
    "tweets_truncated['retweeted'] = tweets_truncated.apply(lambda row: 1 if row.retweeted_status_id!=0 else 0, axis = 1)\n",
    "tweets_truncated = tweets_truncated.drop(['text','retweeted_status_id'], axis=1)"
   ]
  },
  {
   "cell_type": "code",
   "execution_count": 40,
   "metadata": {},
   "outputs": [
    {
     "data": {
      "text/html": [
       "<div>\n",
       "<style scoped>\n",
       "    .dataframe tbody tr th:only-of-type {\n",
       "        vertical-align: middle;\n",
       "    }\n",
       "\n",
       "    .dataframe tbody tr th {\n",
       "        vertical-align: top;\n",
       "    }\n",
       "\n",
       "    .dataframe thead th {\n",
       "        text-align: right;\n",
       "    }\n",
       "</style>\n",
       "<table border=\"1\" class=\"dataframe\">\n",
       "  <thead>\n",
       "    <tr style=\"text-align: right;\">\n",
       "      <th></th>\n",
       "      <th>user_id</th>\n",
       "      <th>id</th>\n",
       "      <th>retweet_count</th>\n",
       "      <th>reply_count</th>\n",
       "      <th>favorite_count</th>\n",
       "      <th>num_hashtags</th>\n",
       "      <th>num_urls</th>\n",
       "      <th>num_mentions</th>\n",
       "      <th>tweet_length</th>\n",
       "      <th>retweeted</th>\n",
       "    </tr>\n",
       "  </thead>\n",
       "  <tbody>\n",
       "    <tr>\n",
       "      <td>0</td>\n",
       "      <td>887281</td>\n",
       "      <td>594073273480130560</td>\n",
       "      <td>0</td>\n",
       "      <td>0</td>\n",
       "      <td>0</td>\n",
       "      <td>0</td>\n",
       "      <td>1</td>\n",
       "      <td>0</td>\n",
       "      <td>85</td>\n",
       "      <td>0</td>\n",
       "    </tr>\n",
       "    <tr>\n",
       "      <td>1</td>\n",
       "      <td>887281</td>\n",
       "      <td>594066507723833345</td>\n",
       "      <td>0</td>\n",
       "      <td>0</td>\n",
       "      <td>0</td>\n",
       "      <td>0</td>\n",
       "      <td>1</td>\n",
       "      <td>1</td>\n",
       "      <td>100</td>\n",
       "      <td>0</td>\n",
       "    </tr>\n",
       "    <tr>\n",
       "      <td>2</td>\n",
       "      <td>887281</td>\n",
       "      <td>593739179655323649</td>\n",
       "      <td>0</td>\n",
       "      <td>0</td>\n",
       "      <td>0</td>\n",
       "      <td>0</td>\n",
       "      <td>1</td>\n",
       "      <td>0</td>\n",
       "      <td>82</td>\n",
       "      <td>0</td>\n",
       "    </tr>\n",
       "    <tr>\n",
       "      <td>3</td>\n",
       "      <td>887281</td>\n",
       "      <td>593737857149345792</td>\n",
       "      <td>14</td>\n",
       "      <td>0</td>\n",
       "      <td>0</td>\n",
       "      <td>0</td>\n",
       "      <td>1</td>\n",
       "      <td>4</td>\n",
       "      <td>140</td>\n",
       "      <td>1</td>\n",
       "    </tr>\n",
       "    <tr>\n",
       "      <td>4</td>\n",
       "      <td>887281</td>\n",
       "      <td>593282967134466051</td>\n",
       "      <td>3</td>\n",
       "      <td>0</td>\n",
       "      <td>0</td>\n",
       "      <td>0</td>\n",
       "      <td>1</td>\n",
       "      <td>1</td>\n",
       "      <td>88</td>\n",
       "      <td>1</td>\n",
       "    </tr>\n",
       "  </tbody>\n",
       "</table>\n",
       "</div>"
      ],
      "text/plain": [
       "   user_id                  id  retweet_count  reply_count  favorite_count  \\\n",
       "0   887281  594073273480130560              0            0               0   \n",
       "1   887281  594066507723833345              0            0               0   \n",
       "2   887281  593739179655323649              0            0               0   \n",
       "3   887281  593737857149345792             14            0               0   \n",
       "4   887281  593282967134466051              3            0               0   \n",
       "\n",
       "   num_hashtags  num_urls  num_mentions  tweet_length  retweeted  \n",
       "0             0         1             0            85          0  \n",
       "1             0         1             1           100          0  \n",
       "2             0         1             0            82          0  \n",
       "3             0         1             4           140          1  \n",
       "4             0         1             1            88          1  "
      ]
     },
     "execution_count": 40,
     "metadata": {},
     "output_type": "execute_result"
    }
   ],
   "source": [
    "tweets_truncated.head()"
   ]
  },
  {
   "cell_type": "code",
   "execution_count": 41,
   "metadata": {},
   "outputs": [],
   "source": [
    "tweets_sum = (tweets_truncated.drop('id', axis=1).groupby('user_id').sum()).rename(columns=lambda x: 'Sum('+x+')')\n",
    "tweets_avg = (tweets_truncated.drop(['id'], axis=1).groupby('user_id').mean()).rename(columns=lambda x: 'Avg('+x+')')\n",
    "tweets_min = (tweets_truncated.drop(['id','retweeted'], axis=1).groupby('user_id').min()).rename(columns=lambda x: 'Min('+x+')')\n",
    "tweets_max = (tweets_truncated.drop(['id','retweeted'], axis=1).groupby('user_id').max()).rename(columns=lambda x: 'Max('+x+')')\n",
    "tweets_count = (tweets_truncated[['user_id','id']].groupby('user_id').count()).rename(columns={'id':'Count(tweets)'})"
   ]
  },
  {
   "cell_type": "code",
   "execution_count": 42,
   "metadata": {},
   "outputs": [],
   "source": [
    "tweets_df = tweets_count.merge(tweets_sum, on='user_id', how='left').merge(tweets_avg, on='user_id', how='left').merge(tweets_min, on='user_id', how='left').merge(tweets_max, on='user_id', how='left')"
   ]
  },
  {
   "cell_type": "code",
   "execution_count": 45,
   "metadata": {},
   "outputs": [],
   "source": [
    "tweets_df.to_csv('tweets_df.csv')"
   ]
  },
  {
   "cell_type": "code",
   "execution_count": 44,
   "metadata": {},
   "outputs": [
    {
     "data": {
      "text/plain": [
       "['Count(tweets)',\n",
       " 'Sum(retweet_count)',\n",
       " 'Sum(reply_count)',\n",
       " 'Sum(favorite_count)',\n",
       " 'Sum(num_hashtags)',\n",
       " 'Sum(num_urls)',\n",
       " 'Sum(num_mentions)',\n",
       " 'Sum(tweet_length)',\n",
       " 'Sum(retweeted)',\n",
       " 'Avg(retweet_count)',\n",
       " 'Avg(reply_count)',\n",
       " 'Avg(favorite_count)',\n",
       " 'Avg(num_hashtags)',\n",
       " 'Avg(num_urls)',\n",
       " 'Avg(num_mentions)',\n",
       " 'Avg(tweet_length)',\n",
       " 'Avg(retweeted)',\n",
       " 'Min(retweet_count)',\n",
       " 'Min(reply_count)',\n",
       " 'Min(favorite_count)',\n",
       " 'Min(num_hashtags)',\n",
       " 'Min(num_urls)',\n",
       " 'Min(num_mentions)',\n",
       " 'Min(tweet_length)',\n",
       " 'Max(retweet_count)',\n",
       " 'Max(reply_count)',\n",
       " 'Max(favorite_count)',\n",
       " 'Max(num_hashtags)',\n",
       " 'Max(num_urls)',\n",
       " 'Max(num_mentions)',\n",
       " 'Max(tweet_length)']"
      ]
     },
     "execution_count": 44,
     "metadata": {},
     "output_type": "execute_result"
    }
   ],
   "source": [
    "tweets_df.columns.to_list()"
   ]
  },
  {
   "cell_type": "code",
   "execution_count": null,
   "metadata": {},
   "outputs": [],
   "source": []
  }
 ],
 "metadata": {
  "kernelspec": {
   "display_name": "Python 3",
   "language": "python",
   "name": "python3"
  },
  "language_info": {
   "codemirror_mode": {
    "name": "ipython",
    "version": 3
   },
   "file_extension": ".py",
   "mimetype": "text/x-python",
   "name": "python",
   "nbconvert_exporter": "python",
   "pygments_lexer": "ipython3",
   "version": "3.7.4"
  }
 },
 "nbformat": 4,
 "nbformat_minor": 2
}
